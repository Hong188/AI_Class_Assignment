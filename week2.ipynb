import torch

# GPU가 사용 가능한지 확인하고, 사용할 디바이스(장치) 설정
device = torch.device('cuda' if torch.cuda.is_available() else 'cpu')

# 1. PyTorch 및 CUDA 사용 가능 여부 확인
print("PyTorch is successfully imported!")
print(f"PyTorch version: {torch.__version__}")
if torch.cuda.is_available():
    print("CUDA is available! Device count:", torch.cuda.device_count())
    print("Current CUDA device:", torch.cuda.get_device_name(0))
else:
    print("CUDA is not available. Using CPU.")

# 2. 텐서 생성 및 GPU로 이동
# 텐서를 만들 때 바로 device를 지정하여 GPU에 할당
test_tensor = torch.tensor([1, 2, 3, 4, 5], device=device)

# 3. 텐서의 device 확인
print("\nTest tensor created:", test_tensor)
print("Tensor shape:", test_tensor.shape)
print("Tensor device:", test_tensor.device)

# 4. 연산 수행 (GPU에서 연산이 이루어짐)
# 텐서가 GPU에 있으므로, 연산도 GPU에서 진행
test_result = test_tensor**2
print("\nBasic operation test (squaring):", test_result)

print("\nPyTorch is working correctly!")
