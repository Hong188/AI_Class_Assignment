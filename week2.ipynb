import torch

# Check GPU whether available and set device to use
device = torch.device('cuda' if torch.cuda.is_available() else 'cpu')

# 1. Check PyTorch or CUDA whether available 
print("PyTorch is successfully imported!")
print(f"PyTorch version: {torch.__version__}")
if torch.cuda.is_available():
    print("CUDA is available! Device count:", torch.cuda.device_count())
    print("Current CUDA device:", torch.cuda.get_device_name(0))
else:
    print("CUDA is not available. Using CPU.")

# 2. Create Tesnsor and move to GPU 및 GPU로 이동
test_tensor = torch.tensor([1, 2, 3, 4, 5], device=device)

# 3. Check device of tensor 
print("\nTest tensor created:", test_tensor)
print("Tensor shape:", test_tensor.shape)
print("Tensor device:", test_tensor.device)

# 4. Calculating
test_result = test_tensor**2
print("\nBasic operation test (squaring):", test_result)

print("\nPyTorch is working correctly!")
